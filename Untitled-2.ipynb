{
 "cells": [
  {
   "cell_type": "code",
   "execution_count": null,
   "metadata": {},
   "outputs": [],
   "source": [
    "<html>\n",
    "</head>\n",
    "<!-- Style on h1 elements -->\n",
    "<style>\n",
    "    #abc { color: green;  text-align: center;}\n",
    "    p{color: blue; background-color: yellow;}\n",
    "    body{background-color: beige;}\n",
    "    </style> \n",
    "</head>\n",
    "</body>\n",
    "    <h1 id=\"abc\">Mawlana Bhasani science and Technology University</h1>\n",
    "    <p id=\"abc\"> This is my frist Class</p>\n",
    "</body>\n",
    "</html>\n",
    "\n",
    " "
   ]
  },
  {
   "cell_type": "code",
   "execution_count": null,
   "metadata": {},
   "outputs": [],
   "source": []
  }
 ],
 "metadata": {
  "language_info": {
   "name": "python"
  }
 },
 "nbformat": 4,
 "nbformat_minor": 2
}
